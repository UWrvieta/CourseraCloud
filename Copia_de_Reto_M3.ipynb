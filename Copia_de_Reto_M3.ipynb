{
  "nbformat": 4,
  "nbformat_minor": 0,
  "metadata": {
    "colab": {
      "provenance": [],
      "authorship_tag": "ABX9TyPLyqmWz6JLQnES6pgefU97",
      "include_colab_link": true
    },
    "kernelspec": {
      "name": "python3",
      "display_name": "Python 3"
    },
    "language_info": {
      "name": "python"
    }
  },
  "cells": [
    {
      "cell_type": "markdown",
      "metadata": {
        "id": "view-in-github",
        "colab_type": "text"
      },
      "source": [
        "<a href=\"https://colab.research.google.com/github/UWrvieta/CourseraCloud/blob/main/Copia_de_Reto_M3.ipynb\" target=\"_parent\"><img src=\"https://colab.research.google.com/assets/colab-badge.svg\" alt=\"Open In Colab\"/></a>"
      ]
    },
    {
      "cell_type": "markdown",
      "source": [
        "# **Uriel Alan Wrvieta Miranda**"
      ],
      "metadata": {
        "id": "re3f4D6TZWZo"
      }
    },
    {
      "cell_type": "markdown",
      "source": [
        "# Crear 4 DataFrames en pandas, cada uno para cargar el contenido de los diferentes archivos. "
      ],
      "metadata": {
        "id": "4_yR946j0OE6"
      }
    },
    {
      "cell_type": "code",
      "execution_count": null,
      "metadata": {
        "colab": {
          "base_uri": "https://localhost:8080/"
        },
        "id": "biHrOTw5yObn",
        "outputId": "fd3f0451-2718-4154-9475-a34a795f5681"
      },
      "outputs": [
        {
          "output_type": "stream",
          "name": "stdout",
          "text": [
            "Drive already mounted at /content/drive; to attempt to forcibly remount, call drive.mount(\"/content/drive\", force_remount=True).\n",
            "<class 'pandas.core.frame.DataFrame'>\n",
            "RangeIndex: 7000 entries, 0 to 6999\n",
            "Data columns (total 24 columns):\n",
            " #   Column                     Non-Null Count  Dtype  \n",
            "---  ------                     --------------  -----  \n",
            " 0   Employee_ID                7000 non-null   object \n",
            " 1   Gender                     7000 non-null   object \n",
            " 2   Age                        6588 non-null   float64\n",
            " 3   Education_Level            7000 non-null   int64  \n",
            " 4   Relationship_Status        7000 non-null   object \n",
            " 5   Hometown                   7000 non-null   object \n",
            " 6   Unit                       7000 non-null   object \n",
            " 7   Decision_skill_possess     7000 non-null   object \n",
            " 8   Time_of_service            6856 non-null   float64\n",
            " 9   Time_since_promotion       7000 non-null   int64  \n",
            " 10  growth_rate                7000 non-null   int64  \n",
            " 11  Travel_Rate                7000 non-null   int64  \n",
            " 12  Post_Level                 7000 non-null   int64  \n",
            " 13  Pay_Scale                  6991 non-null   float64\n",
            " 14  Compensation_and_Benefits  7000 non-null   object \n",
            " 15  Work_Life_balance          6989 non-null   float64\n",
            " 16  VAR1                       7000 non-null   int64  \n",
            " 17  VAR2                       6423 non-null   float64\n",
            " 18  VAR3                       7000 non-null   float64\n",
            " 19  VAR4                       6344 non-null   float64\n",
            " 20  VAR5                       7000 non-null   int64  \n",
            " 21  VAR6                       7000 non-null   int64  \n",
            " 22  VAR7                       7000 non-null   int64  \n",
            " 23  Attrition_rate             7000 non-null   float64\n",
            "dtypes: float64(8), int64(9), object(7)\n",
            "memory usage: 1.3+ MB\n",
            "None\n",
            "<class 'pandas.core.frame.DataFrame'>\n",
            "RangeIndex: 3000 entries, 0 to 2999\n",
            "Data columns (total 23 columns):\n",
            " #   Column                     Non-Null Count  Dtype  \n",
            "---  ------                     --------------  -----  \n",
            " 0   Employee_ID                3000 non-null   object \n",
            " 1   Gender                     3000 non-null   object \n",
            " 2   Age                        2839 non-null   float64\n",
            " 3   Education_Level            3000 non-null   int64  \n",
            " 4   Relationship_Status        3000 non-null   object \n",
            " 5   Hometown                   3000 non-null   object \n",
            " 6   Unit                       3000 non-null   object \n",
            " 7   Decision_skill_possess     3000 non-null   object \n",
            " 8   Time_of_service            2948 non-null   float64\n",
            " 9   Time_since_promotion       3000 non-null   int64  \n",
            " 10  growth_rate                3000 non-null   int64  \n",
            " 11  Travel_Rate                3000 non-null   int64  \n",
            " 12  Post_Level                 3000 non-null   int64  \n",
            " 13  Pay_Scale                  2997 non-null   float64\n",
            " 14  Compensation_and_Benefits  3000 non-null   object \n",
            " 15  Work_Life_balance          2995 non-null   float64\n",
            " 16  VAR1                       3000 non-null   int64  \n",
            " 17  VAR2                       2783 non-null   float64\n",
            " 18  VAR3                       3000 non-null   float64\n",
            " 19  VAR4                       2702 non-null   float64\n",
            " 20  VAR5                       3000 non-null   int64  \n",
            " 21  VAR6                       3000 non-null   int64  \n",
            " 22  VAR7                       3000 non-null   int64  \n",
            "dtypes: float64(7), int64(9), object(7)\n",
            "memory usage: 539.2+ KB\n",
            "None\n",
            "<class 'pandas.core.frame.DataFrame'>\n",
            "RangeIndex: 7000 entries, 0 to 6999\n",
            "Data columns (total 7 columns):\n",
            " #   Column                Non-Null Count  Dtype  \n",
            "---  ------                --------------  -----  \n",
            " 0   Employee_ID           7000 non-null   object \n",
            " 1    Computer_OS          6883 non-null   object \n",
            " 2    Computer_OS_version  6741 non-null   object \n",
            " 3    Computer_tickets     7000 non-null   int64  \n",
            " 4    Mobile_OS            6800 non-null   object \n",
            " 5    Mobile_OS_version    6780 non-null   float64\n",
            " 6    Mobile_tickets       7000 non-null   int64  \n",
            "dtypes: float64(1), int64(2), object(4)\n",
            "memory usage: 382.9+ KB\n",
            "None\n",
            "<class 'pandas.core.frame.DataFrame'>\n",
            "RangeIndex: 3000 entries, 0 to 2999\n",
            "Data columns (total 7 columns):\n",
            " #   Column                Non-Null Count  Dtype  \n",
            "---  ------                --------------  -----  \n",
            " 0   Employee_ID           3000 non-null   object \n",
            " 1    Computer_OS          2959 non-null   object \n",
            " 2    Computer_OS_version  2899 non-null   object \n",
            " 3    Computer_tickets     3000 non-null   int64  \n",
            " 4    Mobile_OS            2913 non-null   object \n",
            " 5    Mobile_OS_version    2901 non-null   float64\n",
            " 6    Mobile_tickets       3000 non-null   int64  \n",
            "dtypes: float64(1), int64(2), object(4)\n",
            "memory usage: 164.2+ KB\n",
            "None\n"
          ]
        }
      ],
      "source": [
        "from os import path\n",
        "from google.colab import drive\n",
        "import pandas as pd\n",
        "\n",
        "drive.mount('/content/drive')\n",
        "path= '/content/drive/MyDrive/DataS/M3/'\n",
        "empl_inf1=pd.read_csv(path + 'Train.csv')\n",
        "empl_inf2=pd.read_csv(path + 'Test.csv')\n",
        "Hw_inf1=pd.read_csv(path + 'Train2.csv')\n",
        "Hw_inf2=pd.read_csv(path + 'Test2.csv')\n",
        "print(empl_inf1.info())\n",
        "print(empl_inf2.info())\n",
        "print(Hw_inf1.info())\n",
        "print(Hw_inf2.info())"
      ]
    },
    {
      "cell_type": "markdown",
      "source": [
        "# Conjuntar de manera correcta la información, de tal forma que queden todos los registros juntos en un solo DataFrame que contenga todas las columnas necesarias"
      ],
      "metadata": {
        "id": "tZtAUCbJ0iPn"
      }
    },
    {
      "cell_type": "code",
      "source": [
        "tbl = [Hw_inf1,Hw_inf2]\n",
        "df1 = pd.concat(tbl)\n",
        "tbl2 = [empl_inf1,empl_inf2]\n",
        "df2 = pd.concat(tbl2)\n",
        "fTbl = pd.merge(df1,df2,on='Employee_ID',how='outer')\n",
        "#fTbl = tbl.merge(tbl2,how = 'outer')\n",
        "fTbl.to_excel(path + 'Fulltable.xlsx')\n"
      ],
      "metadata": {
        "id": "yTTT_I090hxL"
      },
      "execution_count": null,
      "outputs": []
    },
    {
      "cell_type": "markdown",
      "source": [
        "# Para todos los registros que no tienen un valor para un sistema operativo, ya sea de su computadora o de su dispositivo móvil, asignar el valor “no registrado\" "
      ],
      "metadata": {
        "id": "6QgFdQM95Z2U"
      }
    },
    {
      "cell_type": "code",
      "source": [
        "fTbl[' Computer_OS'].fillna('no registrado', inplace = True)\n",
        "fTbl[' Mobile_OS'].fillna('no registrado', inplace = True)\n",
        "print(fTbl[[' Computer_OS',' Mobile_OS']])\n",
        "fTbl.to_excel(path + 'Fulltable.xlsx')"
      ],
      "metadata": {
        "colab": {
          "base_uri": "https://localhost:8080/"
        },
        "id": "d90mkYEp5jVZ",
        "outputId": "54d56642-98e1-4b42-dc47-d67805a39e62"
      },
      "execution_count": null,
      "outputs": [
        {
          "output_type": "stream",
          "name": "stdout",
          "text": [
            "      Computer_OS  Mobile_OS\n",
            "0         Windows    Android\n",
            "1         Windows    Android\n",
            "2         Windows    Android\n",
            "3         Windows    Android\n",
            "4         Windows    Android\n",
            "...           ...        ...\n",
            "9995      Windows    Android\n",
            "9996      Windows    Android\n",
            "9997      Windows    Android\n",
            "9998      Windows        iOS\n",
            "9999      Windows    Android\n",
            "\n",
            "[10000 rows x 2 columns]\n"
          ]
        }
      ]
    },
    {
      "cell_type": "markdown",
      "source": [
        "# El porcentaje de personas que usan Windows / Mac / Linux / no registrado como su sistema operativo en su computadora "
      ],
      "metadata": {
        "id": "GvkjCivjBWBa"
      }
    },
    {
      "cell_type": "code",
      "source": [
        "Total=fTbl[[' Computer_OS']].count()\n",
        "count_W=fTbl[' Computer_OS'][fTbl[' Computer_OS'] == 'Windows'].count()\n",
        "count_M=fTbl[' Computer_OS'][fTbl[' Computer_OS'] == 'MacOS'].count()\n",
        "count_L=fTbl[' Computer_OS'][fTbl[' Computer_OS'] == 'Linux'].count()\n",
        "count_N=fTbl[' Computer_OS'][fTbl[' Computer_OS'] == 'no registrado'].count()\n",
        "df1 = pd.DataFrame(\n",
        "     {\n",
        "         \"OS\": [\"Windows\", \"MAC OS\", \"LINUX\", \"no registrado\"],\n",
        "         \"Quantity of users\": [count_W,count_M, count_L, count_N],\n",
        "         \"percentage\": [str(float((count_W*100)/Total))+'%',str(float((count_M*100)/Total))+'%',str(float((count_L*100)/Total))+'%',str(float((count_N*100)/Total))+'%'],\n",
        "     },\n",
        ")\n",
        "df1.to_excel(path + 'Percentage_OS.xlsx')\n",
        "print('Usuarios que usan Windows',df1.iloc[0]['percentage'])\n",
        "print('Usuarios que usan MacOS',df1.iloc[1]['percentage'])\n",
        "print('Usuarios que usan Linux',df1.iloc[2]['percentage'])\n",
        "print('Usuarios que no no registraron su sistema operativo',df1.iloc[3]['percentage'])\n",
        "\n"
      ],
      "metadata": {
        "colab": {
          "base_uri": "https://localhost:8080/"
        },
        "id": "Bm13MGxvBdiJ",
        "outputId": "add6dae1-4c85-4f73-9efd-2517c01e44cc"
      },
      "execution_count": null,
      "outputs": [
        {
          "output_type": "stream",
          "name": "stdout",
          "text": [
            "Usuarios que usan Windows 77.28%\n",
            "Usuarios que usan MacOS 16.34%\n",
            "Usuarios que usan Linux 4.8%\n",
            "Usuarios que no no registraron su sistema operativo 1.58%\n"
          ]
        }
      ]
    },
    {
      "cell_type": "markdown",
      "source": [
        "# El porcentaje de personas que usan iOS / Android / No registrado como su sistema operativo en su dispositivo móvil"
      ],
      "metadata": {
        "id": "Tx-dZQuDDzSF"
      }
    },
    {
      "cell_type": "code",
      "source": [
        "count_A=fTbl[' Mobile_OS'][fTbl[' Mobile_OS'] == 'Android'].count()\n",
        "count_OS=fTbl[' Mobile_OS'][fTbl[' Mobile_OS'] == 'iOS'].count()\n",
        "count_N=fTbl[' Mobile_OS'][fTbl[' Mobile_OS'] == 'no registrado'].count()\n",
        "df2 = pd.DataFrame(\n",
        "     {\n",
        "         \"OS\": [\"Android\", \"iOS\", \"no registrado\"],\n",
        "         \"Quantity of users\": [count_A,count_OS, count_N],\n",
        "         \"percentage\": [str(float((count_A*100)/Total))+'%',str(float((count_OS*100)/Total))+'%',str(float((count_N*100)/Total))+'%'],\n",
        "     },\n",
        ")\n",
        "df2.to_excel(path + 'Percentage_MOVILE.xlsx')\n",
        "print('Usuarios que usan Android',df2.iloc[0]['percentage'])\n",
        "print('Usuarios que usan iOS',df2.iloc[1]['percentage'])\n",
        "print('Usuarios que no registraron su sistema movil',df2.iloc[2]['percentage'])"
      ],
      "metadata": {
        "colab": {
          "base_uri": "https://localhost:8080/"
        },
        "id": "6AXoI08JD1_a",
        "outputId": "70c2a76a-df88-4e67-bf72-25b1f311e21c"
      },
      "execution_count": null,
      "outputs": [
        {
          "output_type": "stream",
          "name": "stdout",
          "text": [
            "Usuarios que usan Android 76.59%\n",
            "Usuarios que usan iOS 20.54%\n",
            "Usuarios que no registraron su sistema movil 2.87%\n"
          ]
        }
      ]
    },
    {
      "cell_type": "markdown",
      "source": [
        "# La edad promedio de la gente que utiliza cada sistema operativo de escritorio"
      ],
      "metadata": {
        "id": "Amvr4YuUE_GV"
      }
    },
    {
      "cell_type": "code",
      "source": [
        "df3 = pd.DataFrame(\n",
        "     {\n",
        "         \"OS\": [\"Windows\", \"MAC OS\", \"LINUX\", \"no registrado\"],\n",
        "         \"MEAN AGE of users\": [fTbl['Age'][fTbl[' Computer_OS'] == 'Windows'].mean(),fTbl['Age'][fTbl[' Computer_OS'] == 'MacOS'].mean(),\n",
        "                               fTbl['Age'][fTbl[' Computer_OS'] == 'Linux'].mean(), fTbl['Age'][fTbl[' Computer_OS'] == 'no registrado'].mean()]\n",
        "     },\n",
        ")\n",
        "df3.to_excel(path + 'mean_age_OS.xlsx')\n",
        "print('La edad promedio que usan windows',df3.iloc[0]['MEAN AGE of users'])\n",
        "print('La edad promedio que usan Mac OS',df3.iloc[1]['MEAN AGE of users'])\n",
        "print('La edad promedio que usan Linux',df3.iloc[2]['MEAN AGE of users'])\n",
        "print('La edad promedio que no registraron su sistema operativo',df3.iloc[3]['MEAN AGE of users'])\n"
      ],
      "metadata": {
        "colab": {
          "base_uri": "https://localhost:8080/"
        },
        "id": "oj8NGDSJFBw6",
        "outputId": "67dbf5ab-783b-4fe7-e4ef-c7519f4b21dd"
      },
      "execution_count": null,
      "outputs": [
        {
          "output_type": "stream",
          "name": "stdout",
          "text": [
            "la edad promedio que usan windows 39.45744096650192\n",
            "la edad promedio que usan Mac OS 40.396250808015516\n",
            "la edad promedio que usan Linux 40.45190156599553\n",
            "la edad promedio que no registraron su sistema operativo 40.52348993288591\n"
          ]
        }
      ]
    },
    {
      "cell_type": "markdown",
      "source": [
        "# El nivel educativo promedio de la gente que utiliza cada sistema operativo de escritorio  "
      ],
      "metadata": {
        "id": "BB_qwzPvH_yx"
      }
    },
    {
      "cell_type": "code",
      "source": [
        "df4 = pd.DataFrame(\n",
        "     {\n",
        "         \"OS\": [\"Windows\", \"MAC OS\", \"LINUX\", \"no registrado\"],\n",
        "         \"MEAN Education_Level \": [fTbl['Education_Level'][fTbl[' Computer_OS'] == 'Windows'].mean(),fTbl['Education_Level'][fTbl[' Computer_OS'] == 'MacOS'].mean(),\n",
        "                                   fTbl['Education_Level'][fTbl[' Computer_OS'] == 'Linux'].mean(),fTbl['Education_Level'][fTbl[' Computer_OS'] == 'no registrado'].mean()]\n",
        "     },\n",
        ")\n",
        "df4.to_excel(path + 'mean_education_OS.xlsx')\n",
        "print('Nivel educativo promedio que usan windows',df4.iloc[0]['MEAN Education_Level '])\n",
        "print('Nivel educativo promedio que usan Mac OS',df4.iloc[1]['MEAN Education_Level '])\n",
        "print('Nivel educativo promedio que usan Linux',df4.iloc[2]['MEAN Education_Level '])\n",
        "print('Nivel educativo promedio que no registraron su sistema operativo',df4.iloc[3]['MEAN Education_Level '])\n"
      ],
      "metadata": {
        "colab": {
          "base_uri": "https://localhost:8080/"
        },
        "id": "tSyGzdQ9IAQB",
        "outputId": "8e1c99ef-7dc8-441c-892b-18927e065fb8"
      },
      "execution_count": null,
      "outputs": [
        {
          "output_type": "stream",
          "name": "stdout",
          "text": [
            "Nivel educativo promedio que usan windows 3.2036749482401654\n",
            "Nivel educativo promedio que usan Mac OS 3.168298653610771\n",
            "Nivel educativo promedio que usan Linux 3.24375\n",
            "Nivel educativo promedio que no registraron su sistema operativo 3.1772151898734178\n"
          ]
        }
      ]
    },
    {
      "cell_type": "markdown",
      "source": [
        "# El número total de tickets generados por la gente con cada sistema operativo de escritorio "
      ],
      "metadata": {
        "id": "NtPbdEUsI5MD"
      }
    },
    {
      "cell_type": "code",
      "source": [
        "df5 = pd.DataFrame(\n",
        "     {\n",
        "         \"OS\": [\"Windows\", \"MAC OS\", \"LINUX\", \"no registrado\"],\n",
        "         \"Quantity of tickets\": [sum(fTbl[' Computer_tickets'][fTbl[' Computer_OS'] == 'Windows']),sum(fTbl[' Computer_tickets'][fTbl[' Computer_OS'] == 'MacOS']),\n",
        "                                  sum(fTbl[' Computer_tickets'][fTbl[' Computer_OS'] == 'Linux']),sum(fTbl[' Computer_tickets'][fTbl[' Computer_OS'] == 'no registrado'])]\n",
        "     },\n",
        ")\n",
        "df5.to_excel(path + 'Quantity_Tickets_OS.xlsx')\n",
        "print('Numero de tickets creados por usuarios que usan windows',df5.iloc[0]['Quantity of tickets'])\n",
        "print('Numero de tickets creados por usuarios que usan Mac OS',df5.iloc[0]['Quantity of tickets'])\n",
        "print('Numero de tickets creados por usuarios que usan Linux',df5.iloc[0]['Quantity of tickets'])\n",
        "print('Numero de tickets creados por usuarios que no registraron su sistema operativo',df5.iloc[0]['Quantity of tickets'])"
      ],
      "metadata": {
        "colab": {
          "base_uri": "https://localhost:8080/"
        },
        "id": "t2fiEWY9I8lP",
        "outputId": "dc81a7f8-86f2-479b-f77e-443259605b9b"
      },
      "execution_count": null,
      "outputs": [
        {
          "output_type": "stream",
          "name": "stdout",
          "text": [
            "Numero de tickets creados por usuarios que usan windows 21169\n",
            "Numero de tickets creados por usuarios que usan Mac OS 21169\n",
            "Numero de tickets creados por usuarios que usan Linux 21169\n",
            "Numero de tickets creados por usuarios que no registraron su sistema operativo 21169\n"
          ]
        }
      ]
    }
  ]
}